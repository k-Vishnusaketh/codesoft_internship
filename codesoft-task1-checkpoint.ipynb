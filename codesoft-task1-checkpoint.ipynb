{
 "cells": [
  {
   "cell_type": "code",
   "execution_count": 1,
   "id": "6ae9fb4c",
   "metadata": {},
   "outputs": [
    {
     "name": "stdout",
     "output_type": "stream",
     "text": [
      "First 30 records of the dataset:\n",
      "    PassengerId  Survived  Pclass     Sex   Age  SibSp  Parch      Fare  \\\n",
      "0             1         0       3    male  22.0      1      0    7.2500   \n",
      "1             2         1       1  female  38.0      1      0   71.2833   \n",
      "2             3         1       3  female  26.0      0      0    7.9250   \n",
      "3             4         1       1  female  35.0      1      0   53.1000   \n",
      "4             5         0       3    male  35.0      0      0    8.0500   \n",
      "5             6         0       3    male   NaN      0      0    8.4583   \n",
      "6             7         0       1    male  54.0      0      0   51.8625   \n",
      "7             8         0       3    male   2.0      3      1   21.0750   \n",
      "8             9         1       3  female  27.0      0      2   11.1333   \n",
      "9            10         1       2  female  14.0      1      0   30.0708   \n",
      "10           11         1       3  female   4.0      1      1   16.7000   \n",
      "11           12         1       1  female  58.0      0      0   26.5500   \n",
      "12           13         0       3    male  20.0      0      0    8.0500   \n",
      "13           14         0       3    male  39.0      1      5   31.2750   \n",
      "14           15         0       3  female  14.0      0      0    7.8542   \n",
      "15           16         1       2  female  55.0      0      0   16.0000   \n",
      "16           17         0       3    male   2.0      4      1   29.1250   \n",
      "17           18         1       2    male   NaN      0      0   13.0000   \n",
      "18           19         0       3  female  31.0      1      0   18.0000   \n",
      "19           20         1       3  female   NaN      0      0    7.2250   \n",
      "20           21         0       2    male  35.0      0      0   26.0000   \n",
      "21           22         1       2    male  34.0      0      0   13.0000   \n",
      "22           23         1       3  female  15.0      0      0    8.0292   \n",
      "23           24         1       1    male  28.0      0      0   35.5000   \n",
      "24           25         0       3  female   8.0      3      1   21.0750   \n",
      "25           26         1       3  female  38.0      1      5   31.3875   \n",
      "26           27         0       3    male   NaN      0      0    7.2250   \n",
      "27           28         0       1    male  19.0      3      2  263.0000   \n",
      "28           29         1       3  female   NaN      0      0    7.8792   \n",
      "29           30         0       3    male   NaN      0      0    7.8958   \n",
      "\n",
      "   Embarked  \n",
      "0         S  \n",
      "1         C  \n",
      "2         S  \n",
      "3         S  \n",
      "4         S  \n",
      "5         Q  \n",
      "6         S  \n",
      "7         S  \n",
      "8         S  \n",
      "9         C  \n",
      "10        S  \n",
      "11        S  \n",
      "12        S  \n",
      "13        S  \n",
      "14        S  \n",
      "15        S  \n",
      "16        Q  \n",
      "17        S  \n",
      "18        S  \n",
      "19        C  \n",
      "20        S  \n",
      "21        S  \n",
      "22        Q  \n",
      "23        S  \n",
      "24        S  \n",
      "25        S  \n",
      "26        C  \n",
      "27        S  \n",
      "28        Q  \n",
      "29        S  \n",
      "Accuracy:0.5\n",
      "Confusion Matrix:\n",
      "\n",
      "[[1 3]\n",
      " [0 2]]\n",
      "Final Classification Report:\n",
      "\n",
      "              precision    recall  f1-score   support\n",
      "\n",
      "         0.0       1.00      0.25      0.40         4\n",
      "         1.0       0.40      1.00      0.57         2\n",
      "\n",
      "    accuracy                           0.50         6\n",
      "   macro avg       0.70      0.62      0.49         6\n",
      "weighted avg       0.80      0.50      0.46         6\n",
      "\n"
     ]
    }
   ],
   "source": [
    "import pandas as pd \n",
    "import numpy as np\n",
    "from sklearn.model_selection import train_test_split \n",
    "from sklearn.preprocessing import StandardScaler\n",
    "from sklearn.linear_model import LogisticRegression\n",
    "from sklearn.impute import SimpleImputer\n",
    "from sklearn.metrics import accuracy_score\n",
    "from sklearn.metrics import confusion_matrix\n",
    "from sklearn.metrics import classification_report\n",
    "df = pd.read_csv('Titanic.csv')\n",
    "# i am taking first 30 rows\n",
    "print(\"First 30 records of the dataset:\")\n",
    "header=df.head(30)\n",
    "print(header)\n",
    "# Check for missing values\n",
    "header.isnull()\n",
    "df['Age'].fillna(df['Age'].mean())\n",
    "df['Embarked'].fillna(df['Embarked'].mode())\n",
    "# Convert categorical attributes into numerical attributes using one-hot encoding\n",
    "df= pd.get_dummies(header,columns=['Sex','Embarked'],drop_first=True)\n",
    "imp= SimpleImputer(strategy='mean')\n",
    "df = pd.DataFrame(imp.fit_transform(df),columns=df.columns)\n",
    "# i am getting missing values error in sex,embarked colums so i used imputation\n",
    "#input variable\n",
    "x=df.drop(columns='Survived')\n",
    "#output \n",
    "y= df['Survived']\n",
    "x_train,x_test,y_train,y_test =train_test_split(x,y,test_size=0.2,random_state=100)\n",
    "x_test.reset_index(drop=True)\n",
    "y_test.reset_index(drop=True)\n",
    "scaler=StandardScaler()\n",
    "x_train_transformed= scaler.fit_transform(x_train)\n",
    "x_test_transformed= scaler.transform(x_test)\n",
    "model=LogisticRegression()\n",
    "model.fit(x_train_transformed,y_train)\n",
    "#Evaluate the Model\n",
    "y_pred=model.predict(x_test_transformed)\n",
    "#check the accuracy\n",
    "print(f'Accuracy:{accuracy_score(y_test,y_pred)}')\n",
    "# displyconfusion matrix\n",
    "print('Confusion Matrix:\\n')\n",
    "print(confusion_matrix(y_test,y_pred))\n",
    "# final classification report\n",
    "print('Final Classification Report:\\n')\n",
    "print(classification_report(y_test,y_pred))"
   ]
  },
  {
   "cell_type": "code",
   "execution_count": 2,
   "id": "f401f2cb",
   "metadata": {},
   "outputs": [
    {
     "name": "stdout",
     "output_type": "stream",
     "text": [
      "[9, 26, 28, 13, 5, 12]\n"
     ]
    }
   ],
   "source": [
    "# i am unaware of my test set so i printed the indices of my test set data records into a list\n",
    "print(x_test.index.tolist())"
   ]
  },
  {
   "cell_type": "code",
   "execution_count": 5,
   "id": "bd442afc",
   "metadata": {},
   "outputs": [
    {
     "name": "stdout",
     "output_type": "stream",
     "text": [
      "\n",
      " Predicted DataFrame:\n",
      "    PassengerId  Pclass        Age  SibSp  Parch     Fare  Sex_male  \\\n",
      "9          10.0     2.0  14.000000    1.0    0.0  30.0708       0.0   \n",
      "26         27.0     3.0  27.208333    0.0    0.0   7.2250       1.0   \n",
      "28         29.0     3.0  27.208333    0.0    0.0   7.8792       0.0   \n",
      "13         14.0     3.0  39.000000    1.0    5.0  31.2750       1.0   \n",
      "5           6.0     3.0  27.208333    0.0    0.0   8.4583       1.0   \n",
      "12         13.0     3.0  20.000000    0.0    0.0   8.0500       1.0   \n",
      "\n",
      "    Embarked_Q  Embarked_S  Predicted_Survived  Actual_Survived  \n",
      "9          0.0         0.0                 1.0              1.0  \n",
      "26         0.0         0.0                 1.0              0.0  \n",
      "28         1.0         0.0                 1.0              1.0  \n",
      "13         0.0         1.0                 1.0              0.0  \n",
      "5          1.0         0.0                 1.0              0.0  \n",
      "12         0.0         1.0                 0.0              0.0  \n"
     ]
    }
   ],
   "source": [
    "#now let us test wheather our predictions are correct or not\n",
    "#make a copy of test set\n",
    "pred_df=x_test.copy()\n",
    "pred_df['Predicted_Survived']=y_pred\n",
    "pred_df['Actual_Survived']=y_test\n",
    "print(\"\\n Predicted DataFrame:\")\n",
    "print(pred_df)\n",
    "#method to check survival status of specific passenger\n",
    "def check_survived(index):\n",
    "    if index in pred_df.index:\n",
    "        survived=pred_df.loc[index,'Predicted_Survived']\n",
    "        print(f\"Passenger at index {index} is {'survived' if survived==1 else'unfortunately not survived'}\")\n",
    "    else:\n",
    "         print(f\"Index {index} is not in the test set\")"
   ]
  },
  {
   "cell_type": "code",
   "execution_count": 6,
   "id": "78841d16",
   "metadata": {},
   "outputs": [
    {
     "name": "stdout",
     "output_type": "stream",
     "text": [
      "PLEASE ENTER 9, 26, 28, 13, 5, 12 INDEX VALUES \n",
      "Enter the passenger index to see the survival status \n",
      "12\n",
      "Passenger at index 12 is unfortunately not survived\n"
     ]
    }
   ],
   "source": [
    "print(\"PLEASE ENTER 9, 26, 28, 13, 5, 12 INDEX VALUES \")\n",
    "user_input=int(input(\"Enter the passenger index to see the survival status \\n\"))\n",
    "check_survived(user_input)"
   ]
  },
  {
   "cell_type": "code",
   "execution_count": null,
   "id": "9e8e53ed",
   "metadata": {},
   "outputs": [],
   "source": []
  }
 ],
 "metadata": {
  "kernelspec": {
   "display_name": "Python 3 (ipykernel)",
   "language": "python",
   "name": "python3"
  },
  "language_info": {
   "codemirror_mode": {
    "name": "ipython",
    "version": 3
   },
   "file_extension": ".py",
   "mimetype": "text/x-python",
   "name": "python",
   "nbconvert_exporter": "python",
   "pygments_lexer": "ipython3",
   "version": "3.11.5"
  }
 },
 "nbformat": 4,
 "nbformat_minor": 5
}
