{
 "cells": [
  {
   "cell_type": "code",
   "execution_count": 59,
   "id": "f102f5d8",
   "metadata": {},
   "outputs": [
    {
     "name": "stdout",
     "output_type": "stream",
     "text": [
      "    sepal_length  sepal_width  petal_length  petal_width      species\n",
      "0            5.1          3.5           1.4          0.2  Iris-setosa\n",
      "1            4.9          3.0           1.4          0.2  Iris-setosa\n",
      "2            4.7          3.2           1.3          0.2  Iris-setosa\n",
      "3            4.6          3.1           1.5          0.2  Iris-setosa\n",
      "4            5.0          3.6           1.4          0.2  Iris-setosa\n",
      "5            5.4          3.9           1.7          0.4  Iris-setosa\n",
      "6            4.6          3.4           1.4          0.3  Iris-setosa\n",
      "7            5.0          3.4           1.5          0.2  Iris-setosa\n",
      "8            4.4          2.9           1.4          0.2  Iris-setosa\n",
      "9            4.9          3.1           1.5          0.1  Iris-setosa\n",
      "10           5.4          3.7           1.5          0.2  Iris-setosa\n",
      "11           4.8          3.4           1.6          0.2  Iris-setosa\n",
      "12           4.8          3.0           1.4          0.1  Iris-setosa\n",
      "13           4.3          3.0           1.1          0.1  Iris-setosa\n",
      "14           5.8          4.0           1.2          0.2  Iris-setosa\n",
      "15           5.7          4.4           1.5          0.4  Iris-setosa\n",
      "16           5.4          3.9           1.3          0.4  Iris-setosa\n",
      "17           5.1          3.5           1.4          0.3  Iris-setosa\n",
      "18           5.7          3.8           1.7          0.3  Iris-setosa\n",
      "19           5.1          3.8           1.5          0.3  Iris-setosa\n",
      "Accuracy: 0.9666666666666667\n",
      "Classification Report\n",
      "               precision    recall  f1-score   support\n",
      "\n",
      "           0       1.00      1.00      1.00        11\n",
      "           1       1.00      0.83      0.91         6\n",
      "           2       0.93      1.00      0.96        13\n",
      "\n",
      "    accuracy                           0.97        30\n",
      "   macro avg       0.98      0.94      0.96        30\n",
      "weighted avg       0.97      0.97      0.97        30\n",
      "\n",
      "Confusion Matrix\n",
      " [[11  0  0]\n",
      " [ 0  5  1]\n",
      " [ 0  0 13]]\n"
     ]
    }
   ],
   "source": [
    "import pandas as pd\n",
    "df=pd.read_csv('IRIS.csv')\n",
    "#displaying sample data format from the dataset\n",
    "print(df.head(20))\n",
    "#wanted another dataset for predicting differnt species\n",
    "from sklearn.datasets import load_iris\n",
    "iris=load_iris()\n",
    "df=pd.DataFrame(data=iris.data,columns=iris.feature_names)\n",
    "df['species']=iris.target\n",
    "#split the data into input and output variables\n",
    "x=df.drop(columns='species')\n",
    "y=df['species']\n",
    "#split the data into training and testing datasets\n",
    "from sklearn.model_selection import train_test_split\n",
    "x_train,x_test,y_train,y_test=train_test_split(x,y,test_size=0.2,random_state=100)\n",
    "#model selection\n",
    "from sklearn.linear_model import LogisticRegression\n",
    "model=LogisticRegression(max_iter=300)\n",
    "#model training\n",
    "model.fit(x_train,y_train)\n",
    "#predictions on test set\n",
    "y_pred=model.predict(x_test)\n",
    "#evalute the model\n",
    "from sklearn.metrics import accuracy_score,classification_report,confusion_matrix\n",
    "accuracy=accuracy_score(y_test,y_pred)\n",
    "classification_report=classification_report(y_test,y_pred)\n",
    "confusion_matrix=confusion_matrix(y_test,y_pred)\n",
    "print(\"Accuracy:\",accuracy)\n",
    "print(\"Classification Report\\n\",classification_report)\n",
    "print(\"Confusion Matrix\\n\",confusion_matrix)\n"
   ]
  },
  {
   "cell_type": "code",
   "execution_count": 65,
   "id": "775161bb",
   "metadata": {},
   "outputs": [
    {
     "name": "stdout",
     "output_type": "stream",
     "text": [
      "Enter sepal length:7.0\n",
      "Enter sepal width:4.2\n",
      "Enter petal length:6.8\n",
      "Enter petal width:4.6\n",
      "Classified Iris Species: virginica\n"
     ]
    },
    {
     "name": "stderr",
     "output_type": "stream",
     "text": [
      "C:\\Users\\hp\\anaconda3\\Lib\\site-packages\\sklearn\\base.py:464: UserWarning: X does not have valid feature names, but LogisticRegression was fitted with feature names\n",
      "  warnings.warn(\n"
     ]
    }
   ],
   "source": [
    "#model prediction \n",
    "import numpy as np\n",
    "def iris_species(sepal_length,sepal_width,petal_length,petal_width,target_names):\n",
    "    sample=np.array([[sepal_length,sepal_width,petal_length,petal_width]])\n",
    "    iris_species=model.predict(sample)\n",
    "    species_name=target_names[iris_species][0]\n",
    "    return species_name\n",
    "sepal_length=float(input(\"Enter sepal length:\"))\n",
    "sepal_width=float(input(\"Enter sepal width:\"))\n",
    "petal_length=float(input(\"Enter petal length:\"))\n",
    "petal_width=float(input(\"Enter petal width:\"))\n",
    "predicted_iris_species=iris_species(sepal_length,sepal_width,petal_length,petal_width,iris.target_names)\n",
    "print(\"Classified Iris Species:\",predicted_iris_species)"
   ]
  },
  {
   "cell_type": "markdown",
   "id": "a5662f9e",
   "metadata": {},
   "source": [
    "#### "
   ]
  }
 ],
 "metadata": {
  "kernelspec": {
   "display_name": "Python 3 (ipykernel)",
   "language": "python",
   "name": "python3"
  },
  "language_info": {
   "codemirror_mode": {
    "name": "ipython",
    "version": 3
   },
   "file_extension": ".py",
   "mimetype": "text/x-python",
   "name": "python",
   "nbconvert_exporter": "python",
   "pygments_lexer": "ipython3",
   "version": "3.11.5"
  }
 },
 "nbformat": 4,
 "nbformat_minor": 5
}
