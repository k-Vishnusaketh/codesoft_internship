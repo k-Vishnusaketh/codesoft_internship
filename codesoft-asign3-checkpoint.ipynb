{
 "cells": [
  {
   "cell_type": "code",
   "execution_count": 6,
   "id": "11a80ef2",
   "metadata": {},
   "outputs": [
    {
     "name": "stdout",
     "output_type": "stream",
     "text": [
      "                           Movie_Name    Year Duration  \\\n",
      "0                                         NaN      NaN   \n",
      "1  #Gadhvi (He thought he was Gandhi) -2019.0  109 min   \n",
      "2                         #Homecoming -2021.0   90 min   \n",
      "3                             #Yaaram -2019.0  110 min   \n",
      "4                   ...And Once Again -2010.0  105 min   \n",
      "5                ...Aur Pyaar Ho Gaya -1997.0  147 min   \n",
      "6                           ...Yahaan -2005.0  142 min   \n",
      "7                      .in for Motion -2008.0   59 min   \n",
      "8                  ?: A Question Mark -2012.0   82 min   \n",
      "9                            @Andheri -2014.0  116 min   \n",
      "\n",
      "                       Genre  Rating  Votes            Director  \\\n",
      "0                      Drama     NaN    NaN       J.S. Randhawa   \n",
      "1                      Drama     7.0      8       Gaurav Bakshi   \n",
      "2             Drama, Musical     NaN    NaN  Soumyajit Majumdar   \n",
      "3            Comedy, Romance     4.4     35          Ovais Khan   \n",
      "4                      Drama     NaN    NaN        Amol Palekar   \n",
      "5     Comedy, Drama, Musical     4.7    827        Rahul Rawail   \n",
      "6        Drama, Romance, War     7.4  1,086      Shoojit Sircar   \n",
      "7                Documentary     NaN    NaN       Anirban Datta   \n",
      "8  Horror, Mystery, Thriller     5.6    326       Allyson Patel   \n",
      "9    Action, Crime, Thriller     4.0     11   Biju Bhaskar Nair   \n",
      "\n",
      "           Actor 1                 Actor 2          Actor 3  \n",
      "0         Manmauji                  Birbal  Rajendra Bhatia  \n",
      "1     Rasika Dugal          Vivek Ghamande    Arvind Jangid  \n",
      "2     Sayani Gupta       Plabita Borthakur       Roy Angana  \n",
      "3          Prateik              Ishita Raj  Siddhant Kapoor  \n",
      "4     Rajat Kapoor      Rituparna Sengupta      Antara Mali  \n",
      "5       Bobby Deol  Aishwarya Rai Bachchan    Shammi Kapoor  \n",
      "6  Jimmy Sheirgill          Minissha Lamba   Yashpal Sharma  \n",
      "7              NaN                     NaN              NaN  \n",
      "8        Yash Dave          Muntazir Ahmad     Kiran Bhatia  \n",
      "9        Augustine            Fathima Babu             Byon  \n"
     ]
    }
   ],
   "source": [
    "import pandas as pd\n",
    "df=pd.read_csv('IMDb Movies India.csv')\n",
    "df2=pd.DataFrame(df)\n",
    "print(df2.head(10))\n",
    "df2=df2.dropna(subset=['Genre','Director','Actor 1','Actor 2','Actor 3'])\n",
    "df2=df2.drop(['Year','Duration','Votes'],axis=1)\n",
    "df2['Rating']=df2['Rating'].fillna(df2['Rating'].mean())\n",
    "#here subset is used to drop missing values from specific columns\n",
    "df2=pd.get_dummies(df2,columns=['Movie_Name','Genre','Director','Actor 1','Actor 2','Actor 3'],drop_first=True)\n"
   ]
  },
  {
   "cell_type": "code",
   "execution_count": 7,
   "id": "bb95467a",
   "metadata": {},
   "outputs": [
    {
     "name": "stdout",
     "output_type": "stream",
     "text": [
      "MEAN SQUARED ERROR: 1.1484080548636524\n",
      "R2 SCORE: 0.12054990688897183\n"
     ]
    }
   ],
   "source": [
    "from sklearn.model_selection import train_test_split\n",
    "from sklearn.linear_model import LinearRegression\n",
    "from sklearn.metrics import mean_squared_error,r2_score\n",
    "x=df2.drop('Rating',axis=1)#axis is specified to show it is a column\n",
    "y=df2['Rating']\n",
    "x_train,x_test,y_train,y_test=train_test_split(x,y,test_size=0.2,random_state=100)\n",
    "model=LinearRegression()\n",
    "model.fit(x_train,y_train)\n",
    "y_pred=model.predict(x_test)\n",
    "ms=mean_squared_error(y_test,y_pred)\n",
    "r2=r2_score(y_test,y_pred)\n",
    "print(\"MEAN SQUARED ERROR:\",ms)\n",
    "print(\"R2 SCORE:\",r2)"
   ]
  },
  {
   "cell_type": "code",
   "execution_count": 23,
   "id": "1c3266a2",
   "metadata": {},
   "outputs": [],
   "source": [
    "def predict_rating_based_on_director(director_name):\n",
    "    director_movies=df[df['Director']==director_name]\n",
    "    if director_movies.empty:\n",
    "        return f\"No movies were found director {director_name}\"\n",
    "    predicted_rating=director_movies['Rating'].mean()\n",
    "    return f\" The predicted average rating for movies directed by {director_name} is: {predicted_rating:.2f}\"\n",
    "#2f is used to represent floating point values\n"
   ]
  },
  {
   "cell_type": "code",
   "execution_count": 20,
   "id": "9116e38c",
   "metadata": {},
   "outputs": [
    {
     "name": "stdout",
     "output_type": "stream",
     "text": [
      "ENTER The DIRECTOR'S NAME:Shoojit Sircar\n",
      " The predicted average rating for movies directed by Shoojit Sircar is: 7.40\n"
     ]
    }
   ],
   "source": [
    "director_name=input(\"ENTER The DIRECTOR'S NAME:\")\n",
    "print(predict_rating_based_on_director(director_name))"
   ]
  },
  {
   "cell_type": "code",
   "execution_count": null,
   "id": "dab9b065",
   "metadata": {},
   "outputs": [],
   "source": []
  }
 ],
 "metadata": {
  "kernelspec": {
   "display_name": "Python 3 (ipykernel)",
   "language": "python",
   "name": "python3"
  },
  "language_info": {
   "codemirror_mode": {
    "name": "ipython",
    "version": 3
   },
   "file_extension": ".py",
   "mimetype": "text/x-python",
   "name": "python",
   "nbconvert_exporter": "python",
   "pygments_lexer": "ipython3",
   "version": "3.11.5"
  }
 },
 "nbformat": 4,
 "nbformat_minor": 5
}
